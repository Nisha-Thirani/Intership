{
 "cells": [
  {
   "cell_type": "code",
   "execution_count": 1,
   "id": "641823ad",
   "metadata": {},
   "outputs": [],
   "source": [
    "import pandas as pd\n",
    "import numpy as np\n",
    "import regex as re"
   ]
  },
  {
   "cell_type": "markdown",
   "id": "64296fb4",
   "metadata": {},
   "source": [
    "Question 1- Write a Python program to check that a string contains only a certain set of characters (in this case a-z, A-Z and 0-9)."
   ]
  },
  {
   "cell_type": "code",
   "execution_count": 6,
   "id": "e739ba5e",
   "metadata": {},
   "outputs": [],
   "source": [
    "string='Hey there, my ref no is 234567 and you can contact me newid@gmail.com'"
   ]
  },
  {
   "cell_type": "code",
   "execution_count": 7,
   "id": "8741ec21",
   "metadata": {},
   "outputs": [
    {
     "name": "stdout",
     "output_type": "stream",
     "text": [
      "[['H', 'e', 'y', 't', 'h', 'e', 'r', 'e', 'm', 'y', 'r', 'e', 'f', 'n', 'o', 'i', 's', '2', '3', '4', '5', '6', '7', 'a', 'n', 'd', 'y', 'o', 'u', 'c', 'a', 'n', 'c', 'o', 'n', 't', 'a', 'c', 't', 'm', 'e', 'n', 'e', 'w', 'i', 'd', 'g', 'm', 'a', 'i', 'l', 'c', 'o', 'm']]\n"
     ]
    }
   ],
   "source": [
    "pattern=r'[a-zA-Z0-9]'\n",
    "x=re.findall(pattern, string)\n",
    "print([i for i in[x]])"
   ]
  },
  {
   "cell_type": "markdown",
   "id": "4308dd80",
   "metadata": {},
   "source": [
    "Question 2- Create a function in python that matches a string that has an a followed by zero or more b's"
   ]
  },
  {
   "cell_type": "code",
   "execution_count": 8,
   "id": "0dacf7c6",
   "metadata": {},
   "outputs": [],
   "source": [
    "def match(string):\n",
    "    pattern='[a0|ab]'\n",
    "    if re.findall(pattern, string):\n",
    "        print (\"it is a  match\")\n",
    "    else:\n",
    "        print (\"NO, its not a match\")"
   ]
  },
  {
   "cell_type": "code",
   "execution_count": 9,
   "id": "7d84088d",
   "metadata": {},
   "outputs": [
    {
     "name": "stdout",
     "output_type": "stream",
     "text": [
      "it is a  match\n"
     ]
    }
   ],
   "source": [
    "match(string)"
   ]
  },
  {
   "cell_type": "markdown",
   "id": "652a79ab",
   "metadata": {},
   "source": [
    "Question 3-  Create a function in python that matches a string that has an a followed by one or more b's"
   ]
  },
  {
   "cell_type": "code",
   "execution_count": 10,
   "id": "ca2f4596",
   "metadata": {},
   "outputs": [],
   "source": [
    "msg=\"Hello, there are many bachelors degrees such as abb, aba, ab, bba\""
   ]
  },
  {
   "cell_type": "code",
   "execution_count": 11,
   "id": "aff6211c",
   "metadata": {},
   "outputs": [
    {
     "name": "stdout",
     "output_type": "stream",
     "text": [
      "Hello, there are many bachelors degrees such as abb, aba, ab, bba\n"
     ]
    }
   ],
   "source": [
    "x=re.search(r\"\\bab\\w+\", msg)\n",
    "print(x.string)"
   ]
  },
  {
   "cell_type": "markdown",
   "id": "40605454",
   "metadata": {},
   "source": [
    "Question 4- Create a function in Python and use RegEx that matches a string that has an a followed by zero or one 'b'."
   ]
  },
  {
   "cell_type": "code",
   "execution_count": 12,
   "id": "56887bca",
   "metadata": {},
   "outputs": [],
   "source": [
    "msg1=\"hi there, I m doing good.\""
   ]
  },
  {
   "cell_type": "code",
   "execution_count": 19,
   "id": "2715216b",
   "metadata": {},
   "outputs": [],
   "source": [
    "def match(msg1):\n",
    "        patterns = 'a0?|ab?'\n",
    "        if re.search(patterns,  msg1):\n",
    "                return 'Found a match!'\n",
    "        else:\n",
    "                return'Not matched!'\n",
    "\n"
   ]
  },
  {
   "cell_type": "code",
   "execution_count": 20,
   "id": "33eaf2dd",
   "metadata": {},
   "outputs": [
    {
     "name": "stdout",
     "output_type": "stream",
     "text": [
      "Not matched!\n"
     ]
    }
   ],
   "source": [
    "print(match(msg1))"
   ]
  },
  {
   "cell_type": "markdown",
   "id": "ca191b92",
   "metadata": {},
   "source": [
    "Question 5- Write a Python program that matches a string that has an a followed by three 'b'.\n",
    "\n"
   ]
  },
  {
   "cell_type": "code",
   "execution_count": 15,
   "id": "c1f8c3ca",
   "metadata": {},
   "outputs": [],
   "source": [
    "string=\"Hi, I am researching on abbb, abb, ab, bba ,cba viruses\""
   ]
  },
  {
   "cell_type": "code",
   "execution_count": 16,
   "id": "691253e8",
   "metadata": {},
   "outputs": [
    {
     "name": "stdout",
     "output_type": "stream",
     "text": [
      "abbb\n"
     ]
    }
   ],
   "source": [
    "x=re.search(r\"\\babbb\", string)\n",
    "print (x.group())"
   ]
  },
  {
   "cell_type": "markdown",
   "id": "514d4b57",
   "metadata": {},
   "source": [
    "Question 6- Write a regular expression in Python to split a string into uppercase letters.\n",
    "Sample text: “ImportanceOfRegularExpressionsInPython”\n",
    "Output: [‘Importance’, ‘Of’, ‘Regular’, ‘Expression’, ‘In’, ‘Python’]\n"
   ]
  },
  {
   "cell_type": "code",
   "execution_count": 17,
   "id": "42f7b8f2",
   "metadata": {},
   "outputs": [],
   "source": [
    "text=\"ImportanceOfRegularExpressionsInPython\""
   ]
  },
  {
   "cell_type": "code",
   "execution_count": 18,
   "id": "a7c5a15e",
   "metadata": {},
   "outputs": [
    {
     "name": "stdout",
     "output_type": "stream",
     "text": [
      "['Importance', 'Of', 'Regular', 'Expressions', 'In', 'Python']\n"
     ]
    }
   ],
   "source": [
    "pattern='[A-Z][^A-Z]*'\n",
    "x=re.findall(pattern, text)\n",
    "print(x)\n"
   ]
  },
  {
   "cell_type": "markdown",
   "id": "df9176be",
   "metadata": {},
   "source": [
    "Question 7- Write a Python program that matches a string that has an a followed by two to three 'b'."
   ]
  },
  {
   "cell_type": "code",
   "execution_count": 21,
   "id": "b15821e9",
   "metadata": {},
   "outputs": [
    {
     "name": "stdout",
     "output_type": "stream",
     "text": [
      "['abbb', 'abb']\n"
     ]
    }
   ],
   "source": [
    "x=re.findall(r\"\\babbb|\\babb\", string)\n",
    "print(x)"
   ]
  },
  {
   "cell_type": "markdown",
   "id": "238cbb42",
   "metadata": {},
   "source": [
    "Question 8- Write a Python program to find sequences of lowercase letters joined with a underscore."
   ]
  },
  {
   "cell_type": "code",
   "execution_count": 22,
   "id": "32691698",
   "metadata": {},
   "outputs": [],
   "source": [
    "msg=\"aaaa_bbbb\""
   ]
  },
  {
   "cell_type": "code",
   "execution_count": 23,
   "id": "3eededf0",
   "metadata": {},
   "outputs": [
    {
     "name": "stdout",
     "output_type": "stream",
     "text": [
      "It's a match\n"
     ]
    }
   ],
   "source": [
    "pattern=\"\\w_\\w?\"\n",
    "if re.findall(pattern,msg):\n",
    "    print (\"It's a match\")\n",
    "else:\n",
    "    print (\"It's not a match\")"
   ]
  },
  {
   "cell_type": "markdown",
   "id": "07b1dc60",
   "metadata": {},
   "source": [
    "Question 9- Write a Python program that matches a string that has an 'a' followed by anything, ending in 'b'."
   ]
  },
  {
   "cell_type": "code",
   "execution_count": 24,
   "id": "4fb8148a",
   "metadata": {},
   "outputs": [],
   "source": [
    "msg= \"absorb\""
   ]
  },
  {
   "cell_type": "code",
   "execution_count": 25,
   "id": "8240c6a7",
   "metadata": {},
   "outputs": [
    {
     "name": "stdout",
     "output_type": "stream",
     "text": [
      "it's a match\n"
     ]
    }
   ],
   "source": [
    "pattern=\"a?b$\"\n",
    "if re.findall(pattern, msg):\n",
    "    print (\"it's a match\")\n",
    "else:\n",
    "    print(\"it's not a match\")"
   ]
  },
  {
   "cell_type": "markdown",
   "id": "0f89561d",
   "metadata": {},
   "source": [
    "Question 10- Write a Python program that matches a word at the beginning of a string."
   ]
  },
  {
   "cell_type": "code",
   "execution_count": 26,
   "id": "7b91a4e9",
   "metadata": {},
   "outputs": [],
   "source": [
    "msg=\"Hi, There is a message for you\""
   ]
  },
  {
   "cell_type": "code",
   "execution_count": 27,
   "id": "bd023e59",
   "metadata": {},
   "outputs": [
    {
     "name": "stdout",
     "output_type": "stream",
     "text": [
      "It's a match\n"
     ]
    }
   ],
   "source": [
    "pattern=\"^\\w?\"\n",
    "if re.search (pattern, msg):\n",
    "    print(\"It's a match\")\n",
    "else:\n",
    "    print(\"It's not a match\")"
   ]
  },
  {
   "cell_type": "markdown",
   "id": "95a2dc4b",
   "metadata": {},
   "source": [
    "Question 11- Write a Python program to match a string that contains only upper and lowercase letters, numbers, and underscores."
   ]
  },
  {
   "cell_type": "code",
   "execution_count": 30,
   "id": "23dad911",
   "metadata": {},
   "outputs": [],
   "source": [
    "msg= \"Data_Trained2023\""
   ]
  },
  {
   "cell_type": "code",
   "execution_count": 35,
   "id": "cac1b939",
   "metadata": {},
   "outputs": [
    {
     "name": "stdout",
     "output_type": "stream",
     "text": [
      "It's a match\n"
     ]
    }
   ],
   "source": [
    "pattern='^[a-zA-Z0-9_]*$'\n",
    "if re.search(pattern, msg):\n",
    "    print (\"It's a match\")\n",
    "else:\n",
    "    print(\"It's not a match\")"
   ]
  },
  {
   "cell_type": "code",
   "execution_count": 36,
   "id": "6cd1e5ba",
   "metadata": {},
   "outputs": [
    {
     "name": "stdout",
     "output_type": "stream",
     "text": [
      "It's not a match\n"
     ]
    }
   ],
   "source": [
    "msg1=\"gfd hkdcb\"\n",
    "pattern='^[a-zA-Z0-9_]*$'\n",
    "if re.search(pattern, msg1):\n",
    "    print (\"It's a match\")\n",
    "else:\n",
    "    print(\"It's not a match\")"
   ]
  },
  {
   "cell_type": "markdown",
   "id": "80f4241b",
   "metadata": {},
   "source": [
    "Question 12- Write a Python program where a string will start with a specific number. "
   ]
  },
  {
   "cell_type": "code",
   "execution_count": 37,
   "id": "6fcc26a9",
   "metadata": {},
   "outputs": [],
   "source": [
    "string=\"23456\""
   ]
  },
  {
   "cell_type": "code",
   "execution_count": 40,
   "id": "8521efff",
   "metadata": {},
   "outputs": [
    {
     "name": "stdout",
     "output_type": "stream",
     "text": [
      "It's a match\n"
     ]
    }
   ],
   "source": [
    "pattern=(r\"^2\")\n",
    "if re.findall(pattern,string):\n",
    "    print(\"It's a match\")\n",
    "else:\n",
    "    print(\"It's not a match\")"
   ]
  },
  {
   "cell_type": "markdown",
   "id": "5b49aa38",
   "metadata": {},
   "source": [
    "Question 13- Write a Python program to remove leading zeros from an IP address"
   ]
  },
  {
   "cell_type": "code",
   "execution_count": 27,
   "id": "494459fa",
   "metadata": {},
   "outputs": [],
   "source": [
    "msg2=\"342240.5540.5686\""
   ]
  },
  {
   "cell_type": "code",
   "execution_count": 28,
   "id": "5e8d9f0a",
   "metadata": {},
   "outputs": [
    {
     "name": "stdout",
     "output_type": "stream",
     "text": [
      "34224.554.5686\n"
     ]
    }
   ],
   "source": [
    "reg=r'(0)'\n",
    "x=re.sub(reg,'' ,msg2)\n",
    "print(x)"
   ]
  },
  {
   "cell_type": "markdown",
   "id": "c6d11b72",
   "metadata": {},
   "source": [
    "Question 14- Write a regular expression in python to match a date string in the form of Month name followed by day number and year stored in a text file.\n",
    "Sample text : ' On August 15th 1947 that India was declared independent from British colonialism, and the reins of control were handed over to the leaders of the Country’.\n",
    "Output- August 15th 1947\n",
    "Hint- Use re.match() method here\n"
   ]
  },
  {
   "cell_type": "code",
   "execution_count": 4,
   "id": "2a0c11d4",
   "metadata": {},
   "outputs": [],
   "source": [
    "text= ' On August 15th 1947 that India was declared independent from British colonialism, and the reins of control were handed over to the leaders of the Country'"
   ]
  },
  {
   "cell_type": "code",
   "execution_count": 5,
   "id": "b002bbc1",
   "metadata": {},
   "outputs": [
    {
     "name": "stdout",
     "output_type": "stream",
     "text": [
      "On August 15th 1947\n"
     ]
    }
   ],
   "source": [
    "pattern=r\"(\\w+).+(\\d+).+(\\w+).+(\\d+)\"\n",
    "x=re.search(pattern, text)\n",
    "print(x.group())"
   ]
  },
  {
   "cell_type": "markdown",
   "id": "0c6dbd58",
   "metadata": {},
   "source": [
    "Question 15- Write a Python program to search some literals strings in a string. Go to the editor\n",
    "Sample text : 'The quick brown fox jumps over the lazy dog.'\n",
    "Searched words : 'fox', 'dog', 'horse'\n"
   ]
  },
  {
   "cell_type": "code",
   "execution_count": 6,
   "id": "0189d966",
   "metadata": {},
   "outputs": [],
   "source": [
    "text='The quick brown fox jumps over the lazy dog.'"
   ]
  },
  {
   "cell_type": "code",
   "execution_count": 10,
   "id": "f9968894",
   "metadata": {},
   "outputs": [
    {
     "name": "stdout",
     "output_type": "stream",
     "text": [
      "it is a match\n"
     ]
    }
   ],
   "source": [
    "pattern=('fox|dog|horse')\n",
    "if re.search (pattern, text):\n",
    "    print('it is a match')\n",
    "else:\n",
    "    print('No match found')\n"
   ]
  },
  {
   "cell_type": "markdown",
   "id": "f5ee7990",
   "metadata": {},
   "source": [
    "Question 16- Write a Python program to search a literals string in a string and also find the location within the original string where the pattern occurs\n",
    "Sample text : 'The quick brown fox jumps over the lazy dog.'\n",
    "Searched words : 'fox'\n"
   ]
  },
  {
   "cell_type": "code",
   "execution_count": 11,
   "id": "baed1cff",
   "metadata": {},
   "outputs": [],
   "source": [
    "text= 'The quick brown fox jumps over the lazy dog.'"
   ]
  },
  {
   "cell_type": "code",
   "execution_count": 12,
   "id": "575f4f4c",
   "metadata": {},
   "outputs": [
    {
     "name": "stdout",
     "output_type": "stream",
     "text": [
      "Found a match\n"
     ]
    }
   ],
   "source": [
    "if re.search('fox', text):\n",
    "    print (\"Found a match\")\n",
    "else:\n",
    "    print (\"Not a match\")"
   ]
  },
  {
   "cell_type": "markdown",
   "id": "e239e95e",
   "metadata": {},
   "source": [
    "Question 17- Write a Python program to find the substrings within a string.\n",
    "Sample text : 'Python exercises, PHP exercises, C# exercises'\n",
    "Pattern : 'exercises'.\n"
   ]
  },
  {
   "cell_type": "code",
   "execution_count": 13,
   "id": "9f3d9154",
   "metadata": {},
   "outputs": [],
   "source": [
    "text= 'Python exercises, PHP exercises, C# exercises'"
   ]
  },
  {
   "cell_type": "code",
   "execution_count": 14,
   "id": "a3bd0428",
   "metadata": {},
   "outputs": [
    {
     "name": "stdout",
     "output_type": "stream",
     "text": [
      "It's a match!\n"
     ]
    }
   ],
   "source": [
    "Pattern='exercises'\n",
    "if re.findall(Pattern , text):\n",
    "    print (\"It's a match!\")\n",
    "else:\n",
    "    print(\"It's not a match\")"
   ]
  },
  {
   "cell_type": "markdown",
   "id": "e6b312ec",
   "metadata": {},
   "source": [
    "Question 18- Write a Python program to find the occurrence and position of the substrings within a string."
   ]
  },
  {
   "cell_type": "code",
   "execution_count": 15,
   "id": "57e38ab8",
   "metadata": {},
   "outputs": [],
   "source": [
    "text= 'Python exercises, PHP exercises, C# exercises'"
   ]
  },
  {
   "cell_type": "code",
   "execution_count": 16,
   "id": "544f16cd",
   "metadata": {},
   "outputs": [
    {
     "name": "stdout",
     "output_type": "stream",
     "text": [
      "The position is: (7, 16)\n",
      "The occurrence is: exercises\n"
     ]
    }
   ],
   "source": [
    "Pattern='exercises'\n",
    "x=re.search(Pattern, text)\n",
    "print(\"The position is:\", x.span())\n",
    "print(\"The occurrence is:\", x.group())"
   ]
  },
  {
   "cell_type": "markdown",
   "id": "bef82155",
   "metadata": {},
   "source": [
    "Question 19- Write a Python program to convert a date of yyyy-mm-dd format to dd-mm-yyyy format.\n",
    "\n"
   ]
  },
  {
   "cell_type": "code",
   "execution_count": 17,
   "id": "00e58319",
   "metadata": {},
   "outputs": [
    {
     "name": "stdout",
     "output_type": "stream",
     "text": [
      "Hi, today's date is 14-07-2023 \n"
     ]
    }
   ],
   "source": [
    "Text=\"Hi, today's date is 2023-07-14 \"\n",
    "msg=\"2023-07-14\"\n",
    "x=re.sub(msg,\"14-07-2023\", Text)\n",
    "print(x)"
   ]
  },
  {
   "cell_type": "markdown",
   "id": "e1b41fae",
   "metadata": {},
   "source": [
    "Question 20- Write a Python program to find all words starting with 'a' or 'e' in a given string."
   ]
  },
  {
   "cell_type": "code",
   "execution_count": 18,
   "id": "119173b6",
   "metadata": {},
   "outputs": [
    {
     "name": "stdout",
     "output_type": "stream",
     "text": [
      "['ainting ', 'as ', 'elegant ', 'and ', 'agnificent.']\n"
     ]
    }
   ],
   "source": [
    "msg=\"The painting was elegant and magnificent.\"\n",
    "pattern=(\"e\\w+.|a\\w+.\")\n",
    "x=re.findall(pattern,msg)\n",
    "print(x)"
   ]
  },
  {
   "cell_type": "markdown",
   "id": "2fb5f51e",
   "metadata": {},
   "source": [
    "Question 21- Write a Python program to separate and print the numbers and their position of a given string."
   ]
  },
  {
   "cell_type": "code",
   "execution_count": 19,
   "id": "a72a01fe",
   "metadata": {},
   "outputs": [
    {
     "name": "stdout",
     "output_type": "stream",
     "text": [
      "The number is: 100\n",
      "The position is: (20, 23)\n"
     ]
    }
   ],
   "source": [
    "msg=\"Rohit Sharma scored 100 runs in the last ODI\"\n",
    "x=re.search(\"\\d+\",msg)\n",
    "print (\"The number is:\", x.group())\n",
    "print(\"The position is:\", x.span())"
   ]
  },
  {
   "cell_type": "markdown",
   "id": "bf01d0b2",
   "metadata": {},
   "source": [
    "Question 22- Write a regular expression in python program to extract maximum numeric value from a string"
   ]
  },
  {
   "cell_type": "code",
   "execution_count": 4,
   "id": "ffd09e99",
   "metadata": {},
   "outputs": [],
   "source": [
    "msg=\"Virat Kohli has played 109 test matches and scored 8479 runs. He has played 274 OdIs and scored 12898 runs.\""
   ]
  },
  {
   "cell_type": "code",
   "execution_count": 18,
   "id": "61c29fbf",
   "metadata": {},
   "outputs": [
    {
     "data": {
      "text/plain": [
       "['109', '8479', '274', '12898']"
      ]
     },
     "execution_count": 18,
     "metadata": {},
     "output_type": "execute_result"
    }
   ],
   "source": [
    "x=re.findall(\"\\d+\", msg)\n",
    "x"
   ]
  },
  {
   "cell_type": "code",
   "execution_count": 17,
   "id": "6db4b83e",
   "metadata": {},
   "outputs": [
    {
     "name": "stdout",
     "output_type": "stream",
     "text": [
      "12898\n"
     ]
    }
   ],
   "source": [
    "y=map(int, x)\n",
    "print(max(y))"
   ]
  },
  {
   "cell_type": "markdown",
   "id": "e4220d39",
   "metadata": {},
   "source": [
    "Question 23- Write a Regex in Python to put spaces between words starting with capital letters"
   ]
  },
  {
   "cell_type": "code",
   "execution_count": 22,
   "id": "90d0e4ac",
   "metadata": {},
   "outputs": [
    {
     "name": "stdout",
     "output_type": "stream",
     "text": [
      "Hey there it is my new file named The File\n"
     ]
    }
   ],
   "source": [
    "msg=\"Hey there it is my new file named TheFile\"\n",
    "pattern=r'([a-z])(?=[A-Z])'\n",
    "x= re.sub(pattern, r'\\1 ', msg)\n",
    "print (x)"
   ]
  },
  {
   "cell_type": "markdown",
   "id": "46d637a0",
   "metadata": {},
   "source": [
    "Question 24- Python regex to find sequences of one upper case letter followed by lower case letters"
   ]
  },
  {
   "cell_type": "code",
   "execution_count": 23,
   "id": "2acefb7b",
   "metadata": {},
   "outputs": [
    {
     "name": "stdout",
     "output_type": "stream",
     "text": [
      "It's a match!\n"
     ]
    }
   ],
   "source": [
    "word=\"Python\"\n",
    "pattern='[A-Z]+[a-z]'\n",
    "if re.search(pattern, word):\n",
    "    print (\"It's a match!\")\n",
    "else:\n",
    "    print(\"Not a match\")\n"
   ]
  },
  {
   "cell_type": "markdown",
   "id": "f819bc67",
   "metadata": {},
   "source": [
    "Question 25- Write a Python program to remove duplicate words from Sentence using Regular Expression"
   ]
  },
  {
   "cell_type": "code",
   "execution_count": 24,
   "id": "4fd0e6ac",
   "metadata": {},
   "outputs": [
    {
     "name": "stdout",
     "output_type": "stream",
     "text": [
      "Hello world\n"
     ]
    }
   ],
   "source": [
    "msg=\"Hello Hello world world\"\n",
    "pattern= r'\\b(\\w+)(?:\\W+\\1\\b)+'\n",
    "x=re.sub(pattern, r'\\1', msg)\n",
    "print (x)"
   ]
  },
  {
   "cell_type": "markdown",
   "id": "2f3dc031",
   "metadata": {},
   "source": [
    "Question 26-  Write a python program using RegEx to accept string ending with alphanumeric character."
   ]
  },
  {
   "cell_type": "code",
   "execution_count": 25,
   "id": "327abd42",
   "metadata": {},
   "outputs": [
    {
     "name": "stdout",
     "output_type": "stream",
     "text": [
      "It's a match!\n"
     ]
    }
   ],
   "source": [
    "string=\"Hey there my username is connect123\"\n",
    "pattern='\\w\\d$'\n",
    "if re.findall(pattern, string):\n",
    "    print (\"It's a match!\")\n",
    "else:\n",
    "    print(\"It's not a match\")"
   ]
  },
  {
   "cell_type": "markdown",
   "id": "69088d79",
   "metadata": {},
   "source": [
    "Question 27-Write a python program using RegEx to extract the hashtags.\n",
    "Sample Text: text = \"\"\"RT @kapil_kausik: #Doltiwal I mean #xyzabc is \"hurt\" by #Demonetization as the same has rendered USELESS <ed><U+00A0><U+00BD><ed><U+00B1><U+0089> \"acquired funds\" No wo\"\"\"\n",
    "Output: ['#Doltiwal', '#xyzabc', '#Demonetization']\n"
   ]
  },
  {
   "cell_type": "code",
   "execution_count": 26,
   "id": "cdcb2e59",
   "metadata": {},
   "outputs": [
    {
     "name": "stdout",
     "output_type": "stream",
     "text": [
      "['#Doltiwal', '#xyzabc', '#Demonetization']\n"
     ]
    }
   ],
   "source": [
    "text= \"\"\"RT @kapil_kausik: #Doltiwal I mean #xyzabc is \"hurt\" by #Demonetization as the same has rendered USELESS <U+00A0><U+00BD><U+00B1><U+0089> \"acquired funds\" No wo\"\"\" \n",
    "pattern='(#\\w[^#\\W]+)'\n",
    "x=re.findall(pattern,text)\n",
    "print(x)\n"
   ]
  },
  {
   "cell_type": "markdown",
   "id": "d7ca923a",
   "metadata": {},
   "source": [
    "Question 28- Write a python program using RegEx to remove <U+..> like symbols\n",
    "Check the below sample text, there are strange symbols something of the sort <U+..> all over the place. You need to come up with a general Regex expression that will cover all such symbols.\n",
    "Sample Text: \"@Jags123456 Bharat band on 28??<ed><U+00A0><U+00BD><ed><U+00B8><U+0082>Those who  are protesting #demonetization  are all different party leaders\"\n",
    "Output: @Jags123456 Bharat band on 28??<ed><ed>Those who  are protesting #demonetization  are all different party leaders\n"
   ]
  },
  {
   "cell_type": "code",
   "execution_count": 31,
   "id": "3c3e0bcb",
   "metadata": {},
   "outputs": [
    {
     "name": "stdout",
     "output_type": "stream",
     "text": [
      "@Jags123456 Bharat band on 28??hose who are protesting #demonetization are all different party leaders\n"
     ]
    }
   ],
   "source": [
    "Text=\"@Jags123456 Bharat band on 28??<U+00A0><U+00BD><U+00B8><U+0082>Those who are protesting #demonetization are all different party leaders\" \n",
    "x=re.sub(r'[<U>\\d\\bA-Z\\d]+[<U>\\bA-Z+$]', \"\", Text)\n",
    "print (x)"
   ]
  },
  {
   "cell_type": "markdown",
   "id": "9f371975",
   "metadata": {},
   "source": [
    "Question 29- Write a python program to extract dates from the text stored in the text file.\n",
    "Sample Text: Ron was born on 12-09-1992 and he was admitted to school 15-12-1999.\n",
    "Store this sample text in the file and then extract dates.\n"
   ]
  },
  {
   "cell_type": "code",
   "execution_count": 2,
   "id": "4fd59725",
   "metadata": {},
   "outputs": [
    {
     "name": "stdout",
     "output_type": "stream",
     "text": [
      "['12-09-1992', '15-12-1999']\n"
     ]
    }
   ],
   "source": [
    "with open (\"Assignment.txt\") as file:\n",
    "    for line in file:\n",
    "        reg=re.findall(r'(\\d+-\\d+-\\d+)',line)\n",
    "        print(reg)   "
   ]
  },
  {
   "cell_type": "markdown",
   "id": "211f594d",
   "metadata": {},
   "source": [
    "Question 30- Write a Python program to replace all occurrences of a space, comma, or dot with a colon. Sample Text- 'Python Exercises, PHP exercises.' Output: Python:Exercises::PHP:exercises:"
   ]
  },
  {
   "cell_type": "code",
   "execution_count": 3,
   "id": "5e9c5f6e",
   "metadata": {},
   "outputs": [
    {
     "name": "stdout",
     "output_type": "stream",
     "text": [
      "Python:Exercises::PHP:exercises:\n"
     ]
    }
   ],
   "source": [
    "Text='Python Exercises, PHP exercises.'\n",
    "pattern=r\"[\\s,.]\"\n",
    "x=re.sub(pattern, \":\", Text)\n",
    "print(x)"
   ]
  },
  {
   "cell_type": "code",
   "execution_count": null,
   "id": "a5ac88cc",
   "metadata": {},
   "outputs": [],
   "source": []
  }
 ],
 "metadata": {
  "kernelspec": {
   "display_name": "Python 3 (ipykernel)",
   "language": "python",
   "name": "python3"
  },
  "language_info": {
   "codemirror_mode": {
    "name": "ipython",
    "version": 3
   },
   "file_extension": ".py",
   "mimetype": "text/x-python",
   "name": "python",
   "nbconvert_exporter": "python",
   "pygments_lexer": "ipython3",
   "version": "3.9.13"
  }
 },
 "nbformat": 4,
 "nbformat_minor": 5
}
